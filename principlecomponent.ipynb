{
 "cells": [
  {
   "cell_type": "code",
   "execution_count": 8,
   "metadata": {},
   "outputs": [],
   "source": [
    "%config IPCompleter.greedy=True\n",
    "import pandas as pd\n",
    "import numpy as nm\n",
    "import matplotlib.pyplot as plt"
   ]
  },
  {
   "cell_type": "code",
   "execution_count": 14,
   "metadata": {},
   "outputs": [
    {
     "name": "stdout",
     "output_type": "stream",
     "text": [
      "[[ 7.4    0.7    0.    ...  3.51   0.56   9.4  ]\n",
      " [ 7.8    0.88   0.    ...  3.2    0.68   9.8  ]\n",
      " [ 7.8    0.76   0.04  ...  3.26   0.65   9.8  ]\n",
      " ...\n",
      " [ 6.3    0.51   0.13  ...  3.42   0.75  11.   ]\n",
      " [ 5.9    0.645  0.12  ...  3.57   0.71  10.2  ]\n",
      " [ 6.     0.31   0.47  ...  3.39   0.66  11.   ]]\n"
     ]
    }
   ],
   "source": [
    "dataset=pd.read_csv(\"winequality-red.csv\")\n",
    "X=dataset.iloc[:,0:11].values\n",
    "y=dataset.iloc[:,11].values\n",
    "print(X)"
   ]
  },
  {
   "cell_type": "code",
   "execution_count": 10,
   "metadata": {},
   "outputs": [
    {
     "name": "stdout",
     "output_type": "stream",
     "text": [
      "[6 5 7 6 5 6 5 6 4 5 5 5 6 5 6 6 7 5 5 4 7 6 6 4 6 5 5 7 5 6 5 6 5 6 7 7 5\n",
      " 6 6 7 5 7 6 6 5 5 6 6 6 5 5 5 6 6 6 5 5 5 6 5 5 6 6 6 5 6 5 5 6 6 6 6 4 6\n",
      " 5 6 5 5 5 6 6 5 6 6 6 5 6 5 5 5 5 6 4 5 7 6 6 5 6 5 8 6 6 6 5 5 5 5 7 5 6\n",
      " 5 7 5 6 6 6 7 6 6 5 7 5 5 6 6 5 5 5 6 6 6 6 6 6 5 6 5 8 5 6 5 6 5 4 6 7 6\n",
      " 5 6 6 5 5 5 6 6 3 6 6 6 6 6 6 6 5 5 6 6 6 6 5 5 5 8 5 6 6 7 7 5 5 7 5 6 6\n",
      " 4 5 6 5 5 6 5 6 6 5 5 5 5 5 5 5 6 6 5 6 6 5 6 7 6 6 6 5 5 5 6 5 6 6 5 5 5\n",
      " 6 6 5 6 6 6 3 6 5 5 7 6 7 6 6 7 7 6 5 6 5 5 6 5 5 5 5 6 5 5 5 6 6 5 5 5 6\n",
      " 7 5 6 5 6 5 4 5 5 6 7 6 5 5 4 5 6 7 6 6 7 5 7 5 6 6 5 5 5 6 6 5 6 6 6 5 6\n",
      " 6 5 6 5 6 5 6 6 6 6 5 5 6 5 5 6 5 5 5 6 4 5 4 6]\n"
     ]
    }
   ],
   "source": [
    "from sklearn.model_selection import train_test_split\n",
    "X_train,X_test,y_train,y_test=train_test_split(X,y,test_size=0.2,random_state=0)\n",
    "print(y_test)"
   ]
  },
  {
   "cell_type": "code",
   "execution_count": 11,
   "metadata": {},
   "outputs": [
    {
     "name": "stdout",
     "output_type": "stream",
     "text": [
      "[6 5 7 5 6 5 5 6 5 5 5 5 5 6 6 6 7 6 6 5 6 5 6 5 5 5 5 6 5 6 6 6 6 5 6 6 5\n",
      " 5 6 6 5 6 6 6 6 5 5 6 5 6 5 5 5 6 5 5 5 5 7 5 5 6 6 6 5 6 5 6 6 6 5 5 5 5\n",
      " 6 6 5 5 5 6 6 5 6 6 6 5 6 5 6 5 5 5 6 5 6 5 7 5 5 6 7 6 6 6 5 5 5 6 6 5 6\n",
      " 5 6 5 6 6 5 7 6 6 5 6 6 5 6 7 5 5 6 7 5 5 6 6 6 5 6 5 6 5 6 5 5 5 6 6 6 6\n",
      " 6 5 6 6 6 5 5 6 5 5 6 6 6 6 6 5 6 5 6 6 5 6 6 6 5 7 6 6 6 7 6 5 5 6 5 6 6\n",
      " 5 6 6 5 6 6 6 5 5 5 5 5 5 5 5 5 6 5 5 5 5 5 6 6 5 6 5 5 6 5 6 6 6 6 5 5 6\n",
      " 6 6 5 6 6 6 5 5 5 6 5 6 6 6 6 7 6 6 5 5 5 5 6 5 6 5 5 6 5 5 5 5 6 6 5 5 5\n",
      " 6 5 6 5 6 5 5 5 5 6 6 6 6 5 6 6 6 6 5 6 6 5 6 6 6 6 5 5 5 6 6 6 5 6 5 5 6\n",
      " 5 5 5 5 6 5 5 5 6 6 5 5 5 5 5 6 5 5 5 7 6 6 5 6]\n",
      "0.6125\n"
     ]
    }
   ],
   "source": [
    "from sklearn.preprocessing import StandardScaler\n",
    "scale=StandardScaler()\n",
    "X_train=scale.fit_transform(X_train)\n",
    "X_test=scale.transform(X_test)\n",
    "\n",
    "from sklearn.neighbors import KNeighborsClassifier\n",
    "classi=KNeighborsClassifier(n_neighbors=100,metric=\"minkowski\",p=2)\n",
    "classi.fit(X_train,y_train)\n",
    "y_pred=classi.predict(X_test)\n",
    "print(y_pred)\n",
    "\n",
    "from sklearn.metrics import accuracy_score\n",
    "acc=accuracy_score(y_test,y_pred)\n",
    "print(acc)"
   ]
  },
  {
   "cell_type": "code",
   "execution_count": 12,
   "metadata": {},
   "outputs": [
    {
     "name": "stdout",
     "output_type": "stream",
     "text": [
      "[5 5 7 5 5 6 5 6 5 5 5 5 6 6 5 7 7 5 5 5 6 5 6 6 5 5 5 7 5 6 6 6 6 5 7 7 5\n",
      " 6 6 6 5 6 6 7 6 5 5 6 5 6 5 5 6 6 6 5 5 5 7 5 5 6 6 6 5 6 5 5 7 6 5 5 5 6\n",
      " 6 6 5 5 5 7 6 5 6 6 6 5 6 5 5 5 5 6 6 5 7 5 6 5 5 6 7 6 6 6 5 5 5 5 6 5 6\n",
      " 5 8 5 6 6 6 7 6 6 5 6 5 5 6 7 5 5 6 6 5 5 6 6 6 5 6 5 6 5 6 5 5 6 5 6 8 6\n",
      " 5 5 6 5 5 5 6 6 6 6 6 6 6 6 7 5 5 5 6 6 6 6 6 6 5 7 5 6 5 7 7 5 5 7 6 6 7\n",
      " 5 6 6 5 5 6 5 5 6 5 5 5 5 5 5 5 6 6 6 5 5 5 6 7 6 6 6 5 7 5 6 6 6 6 5 5 6\n",
      " 6 5 6 6 6 6 6 6 5 6 5 5 6 6 6 7 7 6 5 6 5 5 6 5 5 5 5 6 5 5 5 6 5 6 5 5 5\n",
      " 7 6 6 5 6 5 5 5 5 6 6 5 5 5 5 6 6 7 6 6 7 5 7 5 5 6 5 5 5 7 6 5 5 6 6 5 6\n",
      " 6 5 5 5 6 5 6 6 6 6 6 5 6 5 5 6 5 5 5 6 6 7 5 7]\n",
      "0.721875\n"
     ]
    }
   ],
   "source": [
    "from sklearn.ensemble import RandomForestClassifier\n",
    "classi1=RandomForestClassifier(n_estimators=100,random_state=0)\n",
    "classi1.fit(X_train,y_train)\n",
    "y_pred1=classi1.predict(X_test)\n",
    "print(y_pred1)\n",
    "\n",
    "from sklearn.metrics import accuracy_score\n",
    "acc1=accuracy_score(y_test,y_pred1)\n",
    "print(acc1)"
   ]
  },
  {
   "cell_type": "code",
   "execution_count": 13,
   "metadata": {},
   "outputs": [
    {
     "name": "stdout",
     "output_type": "stream",
     "text": [
      "[0.28263119 0.17942214 0.1358536  0.10862763 0.08692731 0.06008452\n",
      " 0.0533286  0.03926827 0.03166857 0.01667793 0.00551024]\n"
     ]
    }
   ],
   "source": [
    "from sklearn.decomposition import PCA\n",
    "pca=PCA(n_components=None)\n",
    "X_train=pca.fit_transform(X_train)\n",
    "X_test=pca.transform(X_test)\n",
    "\n",
    "explain_varience=pca.explained_variance_ratio_\n",
    "print(explain_varience)"
   ]
  },
  {
   "cell_type": "code",
   "execution_count": null,
   "metadata": {},
   "outputs": [],
   "source": []
  }
 ],
 "metadata": {
  "kernelspec": {
   "display_name": "Python 3",
   "language": "python",
   "name": "python3"
  },
  "language_info": {
   "codemirror_mode": {
    "name": "ipython",
    "version": 3
   },
   "file_extension": ".py",
   "mimetype": "text/x-python",
   "name": "python",
   "nbconvert_exporter": "python",
   "pygments_lexer": "ipython3",
   "version": "3.7.6"
  }
 },
 "nbformat": 4,
 "nbformat_minor": 4
}
